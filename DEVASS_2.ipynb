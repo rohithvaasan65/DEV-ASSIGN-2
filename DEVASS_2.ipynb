{
  "nbformat": 4,
  "nbformat_minor": 0,
  "metadata": {
    "colab": {
      "provenance": [],
      "authorship_tag": "ABX9TyMDz4oBsnGbfH1TOArTJVIP",
      "include_colab_link": true
    },
    "kernelspec": {
      "name": "python3",
      "display_name": "Python 3"
    },
    "language_info": {
      "name": "python"
    }
  },
  "cells": [
    {
      "cell_type": "markdown",
      "metadata": {
        "id": "view-in-github",
        "colab_type": "text"
      },
      "source": [
        "<a href=\"https://colab.research.google.com/github/rohithvaasan65/DEV-ASSIGN-2/blob/main/DEVASS_2.ipynb\" target=\"_parent\"><img src=\"https://colab.research.google.com/assets/colab-badge.svg\" alt=\"Open In Colab\"/></a>"
      ]
    },
    {
      "cell_type": "code",
      "execution_count": null,
      "metadata": {
        "id": "SUGfofYooUTy"
      },
      "outputs": [],
      "source": [
        "import numpy as np\n",
        "import pandas as pd\n",
        "import seaborn as sns\n",
        "import matplotlib.pyplot as plt "
      ]
    },
    {
      "cell_type": "code",
      "source": [
        "import matplotlib.pyplot as plt \n",
        "import numpy as np\n",
        "import pandas as pd\n",
        "\n",
        "df = pd.read_csv(\"winequalityoooo.csv\")\n",
        "print(df)"
      ],
      "metadata": {
        "colab": {
          "base_uri": "https://localhost:8080/"
        },
        "id": "7iZt5Ktvu4kf",
        "outputId": "f686e324-10cf-4bdc-f42f-554615835ba7"
      },
      "execution_count": 2,
      "outputs": [
        {
          "output_type": "stream",
          "name": "stdout",
          "text": [
            "       type  fixed acidity  volatile acidity  citric acid  residual sugar  \\\n",
            "0     white            7.0             0.270         0.36            20.7   \n",
            "1     white            6.3             0.300         0.34             1.6   \n",
            "2     white            8.1             0.280         0.40             6.9   \n",
            "3     white            7.2             0.230         0.32             8.5   \n",
            "4     white            7.2             0.230         0.32             8.5   \n",
            "...     ...            ...               ...          ...             ...   \n",
            "6492    red            6.2             0.600         0.08             2.0   \n",
            "6493    red            5.9             0.550         0.10             2.2   \n",
            "6494    red            6.3             0.510         0.13             2.3   \n",
            "6495    red            5.9             0.645         0.12             2.0   \n",
            "6496    red            6.0             0.310         0.47             3.6   \n",
            "\n",
            "      chlorides  free sulfur dioxide  total sulfur dioxide  density    pH  \\\n",
            "0         0.045                 45.0                 170.0  1.00100  3.00   \n",
            "1         0.049                 14.0                 132.0  0.99400  3.30   \n",
            "2         0.050                 30.0                  97.0  0.99510  3.26   \n",
            "3         0.058                 47.0                 186.0  0.99560  3.19   \n",
            "4         0.058                 47.0                 186.0  0.99560  3.19   \n",
            "...         ...                  ...                   ...      ...   ...   \n",
            "6492      0.090                 32.0                  44.0  0.99490  3.45   \n",
            "6493      0.062                 39.0                  51.0  0.99512  3.52   \n",
            "6494      0.076                 29.0                  40.0  0.99574  3.42   \n",
            "6495      0.075                 32.0                  44.0  0.99547  3.57   \n",
            "6496      0.067                 18.0                  42.0  0.99549  3.39   \n",
            "\n",
            "      sulphates  alcohol  quality  \n",
            "0          0.45      8.8        6  \n",
            "1          0.49      9.5        6  \n",
            "2          0.44     10.1        6  \n",
            "3          0.40      9.9        6  \n",
            "4          0.40      9.9        6  \n",
            "...         ...      ...      ...  \n",
            "6492       0.58     10.5        5  \n",
            "6493        NaN     11.2        6  \n",
            "6494       0.75     11.0        6  \n",
            "6495       0.71     10.2        5  \n",
            "6496       0.66     11.0        6  \n",
            "\n",
            "[6497 rows x 13 columns]\n"
          ]
        }
      ]
    },
    {
      "cell_type": "code",
      "source": [
        "df.head(30)"
      ],
      "metadata": {
        "colab": {
          "base_uri": "https://localhost:8080/",
          "height": 989
        },
        "id": "xWlFE0rxvaE2",
        "outputId": "15441846-f606-4b48-f3c0-442aeb5a5cf5"
      },
      "execution_count": 3,
      "outputs": [
        {
          "output_type": "execute_result",
          "data": {
            "text/plain": [
              "     type  fixed acidity  volatile acidity  citric acid  residual sugar  \\\n",
              "0   white            7.0              0.27         0.36           20.70   \n",
              "1   white            6.3              0.30         0.34            1.60   \n",
              "2   white            8.1              0.28         0.40            6.90   \n",
              "3   white            7.2              0.23         0.32            8.50   \n",
              "4   white            7.2              0.23         0.32            8.50   \n",
              "5   white            8.1              0.28         0.40            6.90   \n",
              "6   white            6.2              0.32         0.16            7.00   \n",
              "7   white            7.0              0.27         0.36           20.70   \n",
              "8   white            6.3              0.30         0.34            1.60   \n",
              "9   white            8.1              0.22         0.43            1.50   \n",
              "10  white            8.1              0.27         0.41            1.45   \n",
              "11  white            8.6              0.23         0.40            4.20   \n",
              "12  white            7.9              0.18         0.37            1.20   \n",
              "13  white            6.6              0.16         0.40            1.50   \n",
              "14  white            8.3              0.42         0.62           19.25   \n",
              "15  white            6.6              0.17         0.38            1.50   \n",
              "16  white            6.3              0.48         0.04            1.10   \n",
              "17  white            NaN              0.66         0.48            1.20   \n",
              "18  white            7.4              0.34         0.42            1.10   \n",
              "19  white            6.5              0.31         0.14            7.50   \n",
              "20  white            6.2              0.66         0.48            1.20   \n",
              "21  white            6.4              0.31         0.38            2.90   \n",
              "22  white            6.8              0.26         0.42            1.70   \n",
              "23  white            7.6              0.67         0.14            1.50   \n",
              "24  white            6.6              0.27         0.41            1.30   \n",
              "25  white            7.0              0.25         0.32            9.00   \n",
              "26  white            6.9              0.24         0.35            1.00   \n",
              "27  white            7.0              0.28         0.39            8.70   \n",
              "28  white            7.4              0.27         0.48            1.10   \n",
              "29  white            7.2              0.32         0.36            2.00   \n",
              "\n",
              "    chlorides  free sulfur dioxide  total sulfur dioxide  density    pH  \\\n",
              "0       0.045                 45.0                 170.0   1.0010  3.00   \n",
              "1       0.049                 14.0                 132.0   0.9940  3.30   \n",
              "2       0.050                 30.0                  97.0   0.9951  3.26   \n",
              "3       0.058                 47.0                 186.0   0.9956  3.19   \n",
              "4       0.058                 47.0                 186.0   0.9956  3.19   \n",
              "5       0.050                 30.0                  97.0   0.9951  3.26   \n",
              "6       0.045                 30.0                 136.0   0.9949  3.18   \n",
              "7       0.045                 45.0                 170.0   1.0010  3.00   \n",
              "8       0.049                 14.0                 132.0   0.9940  3.30   \n",
              "9       0.044                 28.0                 129.0   0.9938  3.22   \n",
              "10      0.033                 11.0                  63.0   0.9908  2.99   \n",
              "11      0.035                 17.0                 109.0   0.9947  3.14   \n",
              "12      0.040                 16.0                  75.0   0.9920  3.18   \n",
              "13      0.044                 48.0                 143.0   0.9912  3.54   \n",
              "14      0.040                 41.0                 172.0   1.0002  2.98   \n",
              "15      0.032                 28.0                 112.0   0.9914  3.25   \n",
              "16      0.046                 30.0                  99.0   0.9928  3.24   \n",
              "17      0.029                 29.0                  75.0   0.9892  3.33   \n",
              "18      0.033                 17.0                 171.0   0.9917  3.12   \n",
              "19      0.044                 34.0                 133.0   0.9955  3.22   \n",
              "20      0.029                 29.0                  75.0   0.9892  3.33   \n",
              "21      0.038                 19.0                 102.0   0.9912  3.17   \n",
              "22      0.049                 41.0                 122.0   0.9930  3.47   \n",
              "23      0.074                 25.0                 168.0   0.9937  3.05   \n",
              "24      0.052                 16.0                 142.0   0.9951  3.42   \n",
              "25      0.046                 56.0                 245.0   0.9955  3.25   \n",
              "26      0.052                 35.0                 146.0   0.9930  3.45   \n",
              "27      0.051                 32.0                 141.0   0.9961  3.38   \n",
              "28      0.047                 17.0                 132.0   0.9914  3.19   \n",
              "29      0.033                 37.0                 114.0   0.9906  3.10   \n",
              "\n",
              "    sulphates  alcohol  quality  \n",
              "0        0.45      8.8        6  \n",
              "1        0.49      9.5        6  \n",
              "2        0.44     10.1        6  \n",
              "3        0.40      9.9        6  \n",
              "4        0.40      9.9        6  \n",
              "5        0.44     10.1        6  \n",
              "6        0.47      9.6        6  \n",
              "7        0.45      8.8        6  \n",
              "8        0.49      9.5        6  \n",
              "9        0.45     11.0        6  \n",
              "10       0.56     12.0        5  \n",
              "11       0.53      9.7        5  \n",
              "12       0.63     10.8        5  \n",
              "13       0.52     12.4        7  \n",
              "14       0.67      9.7        5  \n",
              "15       0.55     11.4        7  \n",
              "16       0.36      9.6        6  \n",
              "17       0.39     12.8        8  \n",
              "18       0.53     11.3        6  \n",
              "19       0.50      9.5        5  \n",
              "20       0.39     12.8        8  \n",
              "21       0.35     11.0        7  \n",
              "22       0.48     10.5        8  \n",
              "23       0.51      9.3        5  \n",
              "24       0.47     10.0        6  \n",
              "25       0.50     10.4        6  \n",
              "26       0.44     10.0        6  \n",
              "27       0.53     10.5        6  \n",
              "28       0.49     11.6        6  \n",
              "29       0.71     12.3        7  "
            ],
            "text/html": [
              "\n",
              "  <div id=\"df-75a0a6c2-6aee-43a6-b940-f4fca777d6ad\">\n",
              "    <div class=\"colab-df-container\">\n",
              "      <div>\n",
              "<style scoped>\n",
              "    .dataframe tbody tr th:only-of-type {\n",
              "        vertical-align: middle;\n",
              "    }\n",
              "\n",
              "    .dataframe tbody tr th {\n",
              "        vertical-align: top;\n",
              "    }\n",
              "\n",
              "    .dataframe thead th {\n",
              "        text-align: right;\n",
              "    }\n",
              "</style>\n",
              "<table border=\"1\" class=\"dataframe\">\n",
              "  <thead>\n",
              "    <tr style=\"text-align: right;\">\n",
              "      <th></th>\n",
              "      <th>type</th>\n",
              "      <th>fixed acidity</th>\n",
              "      <th>volatile acidity</th>\n",
              "      <th>citric acid</th>\n",
              "      <th>residual sugar</th>\n",
              "      <th>chlorides</th>\n",
              "      <th>free sulfur dioxide</th>\n",
              "      <th>total sulfur dioxide</th>\n",
              "      <th>density</th>\n",
              "      <th>pH</th>\n",
              "      <th>sulphates</th>\n",
              "      <th>alcohol</th>\n",
              "      <th>quality</th>\n",
              "    </tr>\n",
              "  </thead>\n",
              "  <tbody>\n",
              "    <tr>\n",
              "      <th>0</th>\n",
              "      <td>white</td>\n",
              "      <td>7.0</td>\n",
              "      <td>0.27</td>\n",
              "      <td>0.36</td>\n",
              "      <td>20.70</td>\n",
              "      <td>0.045</td>\n",
              "      <td>45.0</td>\n",
              "      <td>170.0</td>\n",
              "      <td>1.0010</td>\n",
              "      <td>3.00</td>\n",
              "      <td>0.45</td>\n",
              "      <td>8.8</td>\n",
              "      <td>6</td>\n",
              "    </tr>\n",
              "    <tr>\n",
              "      <th>1</th>\n",
              "      <td>white</td>\n",
              "      <td>6.3</td>\n",
              "      <td>0.30</td>\n",
              "      <td>0.34</td>\n",
              "      <td>1.60</td>\n",
              "      <td>0.049</td>\n",
              "      <td>14.0</td>\n",
              "      <td>132.0</td>\n",
              "      <td>0.9940</td>\n",
              "      <td>3.30</td>\n",
              "      <td>0.49</td>\n",
              "      <td>9.5</td>\n",
              "      <td>6</td>\n",
              "    </tr>\n",
              "    <tr>\n",
              "      <th>2</th>\n",
              "      <td>white</td>\n",
              "      <td>8.1</td>\n",
              "      <td>0.28</td>\n",
              "      <td>0.40</td>\n",
              "      <td>6.90</td>\n",
              "      <td>0.050</td>\n",
              "      <td>30.0</td>\n",
              "      <td>97.0</td>\n",
              "      <td>0.9951</td>\n",
              "      <td>3.26</td>\n",
              "      <td>0.44</td>\n",
              "      <td>10.1</td>\n",
              "      <td>6</td>\n",
              "    </tr>\n",
              "    <tr>\n",
              "      <th>3</th>\n",
              "      <td>white</td>\n",
              "      <td>7.2</td>\n",
              "      <td>0.23</td>\n",
              "      <td>0.32</td>\n",
              "      <td>8.50</td>\n",
              "      <td>0.058</td>\n",
              "      <td>47.0</td>\n",
              "      <td>186.0</td>\n",
              "      <td>0.9956</td>\n",
              "      <td>3.19</td>\n",
              "      <td>0.40</td>\n",
              "      <td>9.9</td>\n",
              "      <td>6</td>\n",
              "    </tr>\n",
              "    <tr>\n",
              "      <th>4</th>\n",
              "      <td>white</td>\n",
              "      <td>7.2</td>\n",
              "      <td>0.23</td>\n",
              "      <td>0.32</td>\n",
              "      <td>8.50</td>\n",
              "      <td>0.058</td>\n",
              "      <td>47.0</td>\n",
              "      <td>186.0</td>\n",
              "      <td>0.9956</td>\n",
              "      <td>3.19</td>\n",
              "      <td>0.40</td>\n",
              "      <td>9.9</td>\n",
              "      <td>6</td>\n",
              "    </tr>\n",
              "    <tr>\n",
              "      <th>5</th>\n",
              "      <td>white</td>\n",
              "      <td>8.1</td>\n",
              "      <td>0.28</td>\n",
              "      <td>0.40</td>\n",
              "      <td>6.90</td>\n",
              "      <td>0.050</td>\n",
              "      <td>30.0</td>\n",
              "      <td>97.0</td>\n",
              "      <td>0.9951</td>\n",
              "      <td>3.26</td>\n",
              "      <td>0.44</td>\n",
              "      <td>10.1</td>\n",
              "      <td>6</td>\n",
              "    </tr>\n",
              "    <tr>\n",
              "      <th>6</th>\n",
              "      <td>white</td>\n",
              "      <td>6.2</td>\n",
              "      <td>0.32</td>\n",
              "      <td>0.16</td>\n",
              "      <td>7.00</td>\n",
              "      <td>0.045</td>\n",
              "      <td>30.0</td>\n",
              "      <td>136.0</td>\n",
              "      <td>0.9949</td>\n",
              "      <td>3.18</td>\n",
              "      <td>0.47</td>\n",
              "      <td>9.6</td>\n",
              "      <td>6</td>\n",
              "    </tr>\n",
              "    <tr>\n",
              "      <th>7</th>\n",
              "      <td>white</td>\n",
              "      <td>7.0</td>\n",
              "      <td>0.27</td>\n",
              "      <td>0.36</td>\n",
              "      <td>20.70</td>\n",
              "      <td>0.045</td>\n",
              "      <td>45.0</td>\n",
              "      <td>170.0</td>\n",
              "      <td>1.0010</td>\n",
              "      <td>3.00</td>\n",
              "      <td>0.45</td>\n",
              "      <td>8.8</td>\n",
              "      <td>6</td>\n",
              "    </tr>\n",
              "    <tr>\n",
              "      <th>8</th>\n",
              "      <td>white</td>\n",
              "      <td>6.3</td>\n",
              "      <td>0.30</td>\n",
              "      <td>0.34</td>\n",
              "      <td>1.60</td>\n",
              "      <td>0.049</td>\n",
              "      <td>14.0</td>\n",
              "      <td>132.0</td>\n",
              "      <td>0.9940</td>\n",
              "      <td>3.30</td>\n",
              "      <td>0.49</td>\n",
              "      <td>9.5</td>\n",
              "      <td>6</td>\n",
              "    </tr>\n",
              "    <tr>\n",
              "      <th>9</th>\n",
              "      <td>white</td>\n",
              "      <td>8.1</td>\n",
              "      <td>0.22</td>\n",
              "      <td>0.43</td>\n",
              "      <td>1.50</td>\n",
              "      <td>0.044</td>\n",
              "      <td>28.0</td>\n",
              "      <td>129.0</td>\n",
              "      <td>0.9938</td>\n",
              "      <td>3.22</td>\n",
              "      <td>0.45</td>\n",
              "      <td>11.0</td>\n",
              "      <td>6</td>\n",
              "    </tr>\n",
              "    <tr>\n",
              "      <th>10</th>\n",
              "      <td>white</td>\n",
              "      <td>8.1</td>\n",
              "      <td>0.27</td>\n",
              "      <td>0.41</td>\n",
              "      <td>1.45</td>\n",
              "      <td>0.033</td>\n",
              "      <td>11.0</td>\n",
              "      <td>63.0</td>\n",
              "      <td>0.9908</td>\n",
              "      <td>2.99</td>\n",
              "      <td>0.56</td>\n",
              "      <td>12.0</td>\n",
              "      <td>5</td>\n",
              "    </tr>\n",
              "    <tr>\n",
              "      <th>11</th>\n",
              "      <td>white</td>\n",
              "      <td>8.6</td>\n",
              "      <td>0.23</td>\n",
              "      <td>0.40</td>\n",
              "      <td>4.20</td>\n",
              "      <td>0.035</td>\n",
              "      <td>17.0</td>\n",
              "      <td>109.0</td>\n",
              "      <td>0.9947</td>\n",
              "      <td>3.14</td>\n",
              "      <td>0.53</td>\n",
              "      <td>9.7</td>\n",
              "      <td>5</td>\n",
              "    </tr>\n",
              "    <tr>\n",
              "      <th>12</th>\n",
              "      <td>white</td>\n",
              "      <td>7.9</td>\n",
              "      <td>0.18</td>\n",
              "      <td>0.37</td>\n",
              "      <td>1.20</td>\n",
              "      <td>0.040</td>\n",
              "      <td>16.0</td>\n",
              "      <td>75.0</td>\n",
              "      <td>0.9920</td>\n",
              "      <td>3.18</td>\n",
              "      <td>0.63</td>\n",
              "      <td>10.8</td>\n",
              "      <td>5</td>\n",
              "    </tr>\n",
              "    <tr>\n",
              "      <th>13</th>\n",
              "      <td>white</td>\n",
              "      <td>6.6</td>\n",
              "      <td>0.16</td>\n",
              "      <td>0.40</td>\n",
              "      <td>1.50</td>\n",
              "      <td>0.044</td>\n",
              "      <td>48.0</td>\n",
              "      <td>143.0</td>\n",
              "      <td>0.9912</td>\n",
              "      <td>3.54</td>\n",
              "      <td>0.52</td>\n",
              "      <td>12.4</td>\n",
              "      <td>7</td>\n",
              "    </tr>\n",
              "    <tr>\n",
              "      <th>14</th>\n",
              "      <td>white</td>\n",
              "      <td>8.3</td>\n",
              "      <td>0.42</td>\n",
              "      <td>0.62</td>\n",
              "      <td>19.25</td>\n",
              "      <td>0.040</td>\n",
              "      <td>41.0</td>\n",
              "      <td>172.0</td>\n",
              "      <td>1.0002</td>\n",
              "      <td>2.98</td>\n",
              "      <td>0.67</td>\n",
              "      <td>9.7</td>\n",
              "      <td>5</td>\n",
              "    </tr>\n",
              "    <tr>\n",
              "      <th>15</th>\n",
              "      <td>white</td>\n",
              "      <td>6.6</td>\n",
              "      <td>0.17</td>\n",
              "      <td>0.38</td>\n",
              "      <td>1.50</td>\n",
              "      <td>0.032</td>\n",
              "      <td>28.0</td>\n",
              "      <td>112.0</td>\n",
              "      <td>0.9914</td>\n",
              "      <td>3.25</td>\n",
              "      <td>0.55</td>\n",
              "      <td>11.4</td>\n",
              "      <td>7</td>\n",
              "    </tr>\n",
              "    <tr>\n",
              "      <th>16</th>\n",
              "      <td>white</td>\n",
              "      <td>6.3</td>\n",
              "      <td>0.48</td>\n",
              "      <td>0.04</td>\n",
              "      <td>1.10</td>\n",
              "      <td>0.046</td>\n",
              "      <td>30.0</td>\n",
              "      <td>99.0</td>\n",
              "      <td>0.9928</td>\n",
              "      <td>3.24</td>\n",
              "      <td>0.36</td>\n",
              "      <td>9.6</td>\n",
              "      <td>6</td>\n",
              "    </tr>\n",
              "    <tr>\n",
              "      <th>17</th>\n",
              "      <td>white</td>\n",
              "      <td>NaN</td>\n",
              "      <td>0.66</td>\n",
              "      <td>0.48</td>\n",
              "      <td>1.20</td>\n",
              "      <td>0.029</td>\n",
              "      <td>29.0</td>\n",
              "      <td>75.0</td>\n",
              "      <td>0.9892</td>\n",
              "      <td>3.33</td>\n",
              "      <td>0.39</td>\n",
              "      <td>12.8</td>\n",
              "      <td>8</td>\n",
              "    </tr>\n",
              "    <tr>\n",
              "      <th>18</th>\n",
              "      <td>white</td>\n",
              "      <td>7.4</td>\n",
              "      <td>0.34</td>\n",
              "      <td>0.42</td>\n",
              "      <td>1.10</td>\n",
              "      <td>0.033</td>\n",
              "      <td>17.0</td>\n",
              "      <td>171.0</td>\n",
              "      <td>0.9917</td>\n",
              "      <td>3.12</td>\n",
              "      <td>0.53</td>\n",
              "      <td>11.3</td>\n",
              "      <td>6</td>\n",
              "    </tr>\n",
              "    <tr>\n",
              "      <th>19</th>\n",
              "      <td>white</td>\n",
              "      <td>6.5</td>\n",
              "      <td>0.31</td>\n",
              "      <td>0.14</td>\n",
              "      <td>7.50</td>\n",
              "      <td>0.044</td>\n",
              "      <td>34.0</td>\n",
              "      <td>133.0</td>\n",
              "      <td>0.9955</td>\n",
              "      <td>3.22</td>\n",
              "      <td>0.50</td>\n",
              "      <td>9.5</td>\n",
              "      <td>5</td>\n",
              "    </tr>\n",
              "    <tr>\n",
              "      <th>20</th>\n",
              "      <td>white</td>\n",
              "      <td>6.2</td>\n",
              "      <td>0.66</td>\n",
              "      <td>0.48</td>\n",
              "      <td>1.20</td>\n",
              "      <td>0.029</td>\n",
              "      <td>29.0</td>\n",
              "      <td>75.0</td>\n",
              "      <td>0.9892</td>\n",
              "      <td>3.33</td>\n",
              "      <td>0.39</td>\n",
              "      <td>12.8</td>\n",
              "      <td>8</td>\n",
              "    </tr>\n",
              "    <tr>\n",
              "      <th>21</th>\n",
              "      <td>white</td>\n",
              "      <td>6.4</td>\n",
              "      <td>0.31</td>\n",
              "      <td>0.38</td>\n",
              "      <td>2.90</td>\n",
              "      <td>0.038</td>\n",
              "      <td>19.0</td>\n",
              "      <td>102.0</td>\n",
              "      <td>0.9912</td>\n",
              "      <td>3.17</td>\n",
              "      <td>0.35</td>\n",
              "      <td>11.0</td>\n",
              "      <td>7</td>\n",
              "    </tr>\n",
              "    <tr>\n",
              "      <th>22</th>\n",
              "      <td>white</td>\n",
              "      <td>6.8</td>\n",
              "      <td>0.26</td>\n",
              "      <td>0.42</td>\n",
              "      <td>1.70</td>\n",
              "      <td>0.049</td>\n",
              "      <td>41.0</td>\n",
              "      <td>122.0</td>\n",
              "      <td>0.9930</td>\n",
              "      <td>3.47</td>\n",
              "      <td>0.48</td>\n",
              "      <td>10.5</td>\n",
              "      <td>8</td>\n",
              "    </tr>\n",
              "    <tr>\n",
              "      <th>23</th>\n",
              "      <td>white</td>\n",
              "      <td>7.6</td>\n",
              "      <td>0.67</td>\n",
              "      <td>0.14</td>\n",
              "      <td>1.50</td>\n",
              "      <td>0.074</td>\n",
              "      <td>25.0</td>\n",
              "      <td>168.0</td>\n",
              "      <td>0.9937</td>\n",
              "      <td>3.05</td>\n",
              "      <td>0.51</td>\n",
              "      <td>9.3</td>\n",
              "      <td>5</td>\n",
              "    </tr>\n",
              "    <tr>\n",
              "      <th>24</th>\n",
              "      <td>white</td>\n",
              "      <td>6.6</td>\n",
              "      <td>0.27</td>\n",
              "      <td>0.41</td>\n",
              "      <td>1.30</td>\n",
              "      <td>0.052</td>\n",
              "      <td>16.0</td>\n",
              "      <td>142.0</td>\n",
              "      <td>0.9951</td>\n",
              "      <td>3.42</td>\n",
              "      <td>0.47</td>\n",
              "      <td>10.0</td>\n",
              "      <td>6</td>\n",
              "    </tr>\n",
              "    <tr>\n",
              "      <th>25</th>\n",
              "      <td>white</td>\n",
              "      <td>7.0</td>\n",
              "      <td>0.25</td>\n",
              "      <td>0.32</td>\n",
              "      <td>9.00</td>\n",
              "      <td>0.046</td>\n",
              "      <td>56.0</td>\n",
              "      <td>245.0</td>\n",
              "      <td>0.9955</td>\n",
              "      <td>3.25</td>\n",
              "      <td>0.50</td>\n",
              "      <td>10.4</td>\n",
              "      <td>6</td>\n",
              "    </tr>\n",
              "    <tr>\n",
              "      <th>26</th>\n",
              "      <td>white</td>\n",
              "      <td>6.9</td>\n",
              "      <td>0.24</td>\n",
              "      <td>0.35</td>\n",
              "      <td>1.00</td>\n",
              "      <td>0.052</td>\n",
              "      <td>35.0</td>\n",
              "      <td>146.0</td>\n",
              "      <td>0.9930</td>\n",
              "      <td>3.45</td>\n",
              "      <td>0.44</td>\n",
              "      <td>10.0</td>\n",
              "      <td>6</td>\n",
              "    </tr>\n",
              "    <tr>\n",
              "      <th>27</th>\n",
              "      <td>white</td>\n",
              "      <td>7.0</td>\n",
              "      <td>0.28</td>\n",
              "      <td>0.39</td>\n",
              "      <td>8.70</td>\n",
              "      <td>0.051</td>\n",
              "      <td>32.0</td>\n",
              "      <td>141.0</td>\n",
              "      <td>0.9961</td>\n",
              "      <td>3.38</td>\n",
              "      <td>0.53</td>\n",
              "      <td>10.5</td>\n",
              "      <td>6</td>\n",
              "    </tr>\n",
              "    <tr>\n",
              "      <th>28</th>\n",
              "      <td>white</td>\n",
              "      <td>7.4</td>\n",
              "      <td>0.27</td>\n",
              "      <td>0.48</td>\n",
              "      <td>1.10</td>\n",
              "      <td>0.047</td>\n",
              "      <td>17.0</td>\n",
              "      <td>132.0</td>\n",
              "      <td>0.9914</td>\n",
              "      <td>3.19</td>\n",
              "      <td>0.49</td>\n",
              "      <td>11.6</td>\n",
              "      <td>6</td>\n",
              "    </tr>\n",
              "    <tr>\n",
              "      <th>29</th>\n",
              "      <td>white</td>\n",
              "      <td>7.2</td>\n",
              "      <td>0.32</td>\n",
              "      <td>0.36</td>\n",
              "      <td>2.00</td>\n",
              "      <td>0.033</td>\n",
              "      <td>37.0</td>\n",
              "      <td>114.0</td>\n",
              "      <td>0.9906</td>\n",
              "      <td>3.10</td>\n",
              "      <td>0.71</td>\n",
              "      <td>12.3</td>\n",
              "      <td>7</td>\n",
              "    </tr>\n",
              "  </tbody>\n",
              "</table>\n",
              "</div>\n",
              "      <button class=\"colab-df-convert\" onclick=\"convertToInteractive('df-75a0a6c2-6aee-43a6-b940-f4fca777d6ad')\"\n",
              "              title=\"Convert this dataframe to an interactive table.\"\n",
              "              style=\"display:none;\">\n",
              "        \n",
              "  <svg xmlns=\"http://www.w3.org/2000/svg\" height=\"24px\"viewBox=\"0 0 24 24\"\n",
              "       width=\"24px\">\n",
              "    <path d=\"M0 0h24v24H0V0z\" fill=\"none\"/>\n",
              "    <path d=\"M18.56 5.44l.94 2.06.94-2.06 2.06-.94-2.06-.94-.94-2.06-.94 2.06-2.06.94zm-11 1L8.5 8.5l.94-2.06 2.06-.94-2.06-.94L8.5 2.5l-.94 2.06-2.06.94zm10 10l.94 2.06.94-2.06 2.06-.94-2.06-.94-.94-2.06-.94 2.06-2.06.94z\"/><path d=\"M17.41 7.96l-1.37-1.37c-.4-.4-.92-.59-1.43-.59-.52 0-1.04.2-1.43.59L10.3 9.45l-7.72 7.72c-.78.78-.78 2.05 0 2.83L4 21.41c.39.39.9.59 1.41.59.51 0 1.02-.2 1.41-.59l7.78-7.78 2.81-2.81c.8-.78.8-2.07 0-2.86zM5.41 20L4 18.59l7.72-7.72 1.47 1.35L5.41 20z\"/>\n",
              "  </svg>\n",
              "      </button>\n",
              "      \n",
              "  <style>\n",
              "    .colab-df-container {\n",
              "      display:flex;\n",
              "      flex-wrap:wrap;\n",
              "      gap: 12px;\n",
              "    }\n",
              "\n",
              "    .colab-df-convert {\n",
              "      background-color: #E8F0FE;\n",
              "      border: none;\n",
              "      border-radius: 50%;\n",
              "      cursor: pointer;\n",
              "      display: none;\n",
              "      fill: #1967D2;\n",
              "      height: 32px;\n",
              "      padding: 0 0 0 0;\n",
              "      width: 32px;\n",
              "    }\n",
              "\n",
              "    .colab-df-convert:hover {\n",
              "      background-color: #E2EBFA;\n",
              "      box-shadow: 0px 1px 2px rgba(60, 64, 67, 0.3), 0px 1px 3px 1px rgba(60, 64, 67, 0.15);\n",
              "      fill: #174EA6;\n",
              "    }\n",
              "\n",
              "    [theme=dark] .colab-df-convert {\n",
              "      background-color: #3B4455;\n",
              "      fill: #D2E3FC;\n",
              "    }\n",
              "\n",
              "    [theme=dark] .colab-df-convert:hover {\n",
              "      background-color: #434B5C;\n",
              "      box-shadow: 0px 1px 3px 1px rgba(0, 0, 0, 0.15);\n",
              "      filter: drop-shadow(0px 1px 2px rgba(0, 0, 0, 0.3));\n",
              "      fill: #FFFFFF;\n",
              "    }\n",
              "  </style>\n",
              "\n",
              "      <script>\n",
              "        const buttonEl =\n",
              "          document.querySelector('#df-75a0a6c2-6aee-43a6-b940-f4fca777d6ad button.colab-df-convert');\n",
              "        buttonEl.style.display =\n",
              "          google.colab.kernel.accessAllowed ? 'block' : 'none';\n",
              "\n",
              "        async function convertToInteractive(key) {\n",
              "          const element = document.querySelector('#df-75a0a6c2-6aee-43a6-b940-f4fca777d6ad');\n",
              "          const dataTable =\n",
              "            await google.colab.kernel.invokeFunction('convertToInteractive',\n",
              "                                                     [key], {});\n",
              "          if (!dataTable) return;\n",
              "\n",
              "          const docLinkHtml = 'Like what you see? Visit the ' +\n",
              "            '<a target=\"_blank\" href=https://colab.research.google.com/notebooks/data_table.ipynb>data table notebook</a>'\n",
              "            + ' to learn more about interactive tables.';\n",
              "          element.innerHTML = '';\n",
              "          dataTable['output_type'] = 'display_data';\n",
              "          await google.colab.output.renderOutput(dataTable, element);\n",
              "          const docLink = document.createElement('div');\n",
              "          docLink.innerHTML = docLinkHtml;\n",
              "          element.appendChild(docLink);\n",
              "        }\n",
              "      </script>\n",
              "    </div>\n",
              "  </div>\n",
              "  "
            ]
          },
          "metadata": {},
          "execution_count": 3
        }
      ]
    },
    {
      "cell_type": "code",
      "source": [
        "plt.title(\"Line Plot \")\n",
        "\n",
        "x=df.head(30)['alcohol']\n",
        "y=df.head(30)['quality']\n",
        "plt.plot(x,y)"
      ],
      "metadata": {
        "colab": {
          "base_uri": "https://localhost:8080/",
          "height": 298
        },
        "id": "s35Tad_yvgVZ",
        "outputId": "ff44db58-dfd3-4609-eced-7b335a99d207"
      },
      "execution_count": 5,
      "outputs": [
        {
          "output_type": "execute_result",
          "data": {
            "text/plain": [
              "[<matplotlib.lines.Line2D at 0x7f4a7daff990>]"
            ]
          },
          "metadata": {},
          "execution_count": 5
        },
        {
          "output_type": "display_data",
          "data": {
            "text/plain": [
              "<Figure size 432x288 with 1 Axes>"
            ],
            "image/png": "[encoded data removed]"
          },
          "metadata": {
            "needs_background": "light"
          }
        }
      ]
    },
    {
      "cell_type": "code",
      "source": [
        "plt.title('Scatter Plot')\n",
        "\n",
        "X=df.head(30)['fixed acidity']\n",
        "Y=df.head(30)['residual sugar']\n",
        "plt.scatter(x,y)"
      ],
      "metadata": {
        "colab": {
          "base_uri": "https://localhost:8080/",
          "height": 298
        },
        "id": "2NMqgRNev6qm",
        "outputId": "a4e8a7f8-9d50-48c6-c4e0-ca56ed26a55b"
      },
      "execution_count": 7,
      "outputs": [
        {
          "output_type": "execute_result",
          "data": {
            "text/plain": [
              "<matplotlib.collections.PathCollection at 0x7f4a7d53b210>"
            ]
          },
          "metadata": {},
          "execution_count": 7
        },
        {
          "output_type": "display_data",
          "data": {
            "text/plain": [
              "<Figure size 432x288 with 1 Axes>"
            ],
            "image/png": "[encoded data removed]"
          },
          "metadata": {
            "needs_background": "light"
          }
        }
      ]
    },
    {
      "cell_type": "code",
      "source": [
        "plt.title(\"Lalipop Chart\")\n",
        "X=df.head(40)[\"alcohol\"]\n",
        "plt.stem(x)"
      ],
      "metadata": {
        "colab": {
          "base_uri": "https://localhost:8080/",
          "height": 353
        },
        "id": "kb7CxLPnwU6z",
        "outputId": "532af2c6-069a-44f0-dd25-13165ada5e90"
      },
      "execution_count": 8,
      "outputs": [
        {
          "output_type": "stream",
          "name": "stderr",
          "text": [
            "/usr/local/lib/python3.7/dist-packages/ipykernel_launcher.py:3: UserWarning: In Matplotlib 3.3 individual lines on a stem plot will be added as a LineCollection instead of individual lines. This significantly improves the performance of a stem plot. To remove this warning and switch to the new behaviour, set the \"use_line_collection\" keyword argument to True.\n",
            "  This is separate from the ipykernel package so we can avoid doing imports until\n"
          ]
        },
        {
          "output_type": "execute_result",
          "data": {
            "text/plain": [
              "<StemContainer object of 3 artists>"
            ]
          },
          "metadata": {},
          "execution_count": 8
        },
        {
          "output_type": "display_data",
          "data": {
            "text/plain": [
              "<Figure size 432x288 with 1 Axes>"
            ],
            "image/png": "[encoded data removed]"
          },
          "metadata": {
            "needs_background": "light"
          }
        }
      ]
    },
    {
      "cell_type": "code",
      "source": [
        "plt.title(\"Bar Chart\")\n",
        "X=df.head(40)[\"sulphates\"]\n",
        "Y=df.head(40)[\"pH\t\"]\n",
        "plt.bar(x,y)"
      ],
      "metadata": {
        "colab": {
          "base_uri": "https://localhost:8080/",
          "height": 765
        },
        "id": "RZ72zuHWwf3a",
        "outputId": "673ba35e-3e6b-4c11-f60e-a48f0bf23213"
      },
      "execution_count": 10,
      "outputs": [
        {
          "output_type": "error",
          "ename": "KeyError",
          "evalue": "ignored",
          "traceback": [
            "\u001b[0;31m---------------------------------------------------------------------------\u001b[0m",
            "\u001b[0;31mKeyError\u001b[0m                                  Traceback (most recent call last)",
            "\u001b[0;32m/usr/local/lib/python3.7/dist-packages/pandas/core/indexes/base.py\u001b[0m in \u001b[0;36mget_loc\u001b[0;34m(self, key, method, tolerance)\u001b[0m\n\u001b[1;32m   3360\u001b[0m             \u001b[0;32mtry\u001b[0m\u001b[0;34m:\u001b[0m\u001b[0;34m\u001b[0m\u001b[0;34m\u001b[0m\u001b[0m\n\u001b[0;32m-> 3361\u001b[0;31m                 \u001b[0;32mreturn\u001b[0m \u001b[0mself\u001b[0m\u001b[0;34m.\u001b[0m\u001b[0m_engine\u001b[0m\u001b[0;34m.\u001b[0m\u001b[0mget_loc\u001b[0m\u001b[0;34m(\u001b[0m\u001b[0mcasted_key\u001b[0m\u001b[0;34m)\u001b[0m\u001b[0;34m\u001b[0m\u001b[0;34m\u001b[0m\u001b[0m\n\u001b[0m\u001b[1;32m   3362\u001b[0m             \u001b[0;32mexcept\u001b[0m \u001b[0mKeyError\u001b[0m \u001b[0;32mas\u001b[0m \u001b[0merr\u001b[0m\u001b[0;34m:\u001b[0m\u001b[0;34m\u001b[0m\u001b[0;34m\u001b[0m\u001b[0m\n",
            "\u001b[0;32m/usr/local/lib/python3.7/dist-packages/pandas/_libs/index.pyx\u001b[0m in \u001b[0;36mpandas._libs.index.IndexEngine.get_loc\u001b[0;34m()\u001b[0m\n",
            "\u001b[0;32m/usr/local/lib/python3.7/dist-packages/pandas/_libs/index.pyx\u001b[0m in \u001b[0;36mpandas._libs.index.IndexEngine.get_loc\u001b[0;34m()\u001b[0m\n",
            "\u001b[0;32mpandas/_libs/hashtable_class_helper.pxi\u001b[0m in \u001b[0;36mpandas._libs.hashtable.PyObjectHashTable.get_item\u001b[0;34m()\u001b[0m\n",
            "\u001b[0;32mpandas/_libs/hashtable_class_helper.pxi\u001b[0m in \u001b[0;36mpandas._libs.hashtable.PyObjectHashTable.get_item\u001b[0;34m()\u001b[0m\n",
            "\u001b[0;31mKeyError\u001b[0m: 'pH\\t'",
            "\nThe above exception was the direct cause of the following exception:\n",
            "\u001b[0;31mKeyError\u001b[0m                                  Traceback (most recent call last)",
            "\u001b[0;32m<ipython-input-10-8078423b7ab6>\u001b[0m in \u001b[0;36m<module>\u001b[0;34m\u001b[0m\n\u001b[1;32m      1\u001b[0m \u001b[0mplt\u001b[0m\u001b[0;34m.\u001b[0m\u001b[0mtitle\u001b[0m\u001b[0;34m(\u001b[0m\u001b[0;34m\"Bar Chart\"\u001b[0m\u001b[0;34m)\u001b[0m\u001b[0;34m\u001b[0m\u001b[0;34m\u001b[0m\u001b[0m\n\u001b[1;32m      2\u001b[0m \u001b[0mX\u001b[0m\u001b[0;34m=\u001b[0m\u001b[0mdf\u001b[0m\u001b[0;34m.\u001b[0m\u001b[0mhead\u001b[0m\u001b[0;34m(\u001b[0m\u001b[0;36m40\u001b[0m\u001b[0;34m)\u001b[0m\u001b[0;34m[\u001b[0m\u001b[0;34m\"sulphates\"\u001b[0m\u001b[0;34m]\u001b[0m\u001b[0;34m\u001b[0m\u001b[0;34m\u001b[0m\u001b[0m\n\u001b[0;32m----> 3\u001b[0;31m \u001b[0mY\u001b[0m\u001b[0;34m=\u001b[0m\u001b[0mdf\u001b[0m\u001b[0;34m.\u001b[0m\u001b[0mhead\u001b[0m\u001b[0;34m(\u001b[0m\u001b[0;36m40\u001b[0m\u001b[0;34m)\u001b[0m\u001b[0;34m[\u001b[0m\u001b[0;34m\"pH       \"\u001b[0m\u001b[0;34m]\u001b[0m\u001b[0;34m\u001b[0m\u001b[0;34m\u001b[0m\u001b[0m\n\u001b[0m\u001b[1;32m      4\u001b[0m \u001b[0mplt\u001b[0m\u001b[0;34m.\u001b[0m\u001b[0mbar\u001b[0m\u001b[0;34m(\u001b[0m\u001b[0mx\u001b[0m\u001b[0;34m,\u001b[0m\u001b[0my\u001b[0m\u001b[0;34m)\u001b[0m\u001b[0;34m\u001b[0m\u001b[0;34m\u001b[0m\u001b[0m\n",
            "\u001b[0;32m/usr/local/lib/python3.7/dist-packages/pandas/core/frame.py\u001b[0m in \u001b[0;36m__getitem__\u001b[0;34m(self, key)\u001b[0m\n\u001b[1;32m   3456\u001b[0m             \u001b[0;32mif\u001b[0m \u001b[0mself\u001b[0m\u001b[0;34m.\u001b[0m\u001b[0mcolumns\u001b[0m\u001b[0;34m.\u001b[0m\u001b[0mnlevels\u001b[0m \u001b[0;34m>\u001b[0m \u001b[0;36m1\u001b[0m\u001b[0;34m:\u001b[0m\u001b[0;34m\u001b[0m\u001b[0;34m\u001b[0m\u001b[0m\n\u001b[1;32m   3457\u001b[0m                 \u001b[0;32mreturn\u001b[0m \u001b[0mself\u001b[0m\u001b[0;34m.\u001b[0m\u001b[0m_getitem_multilevel\u001b[0m\u001b[0;34m(\u001b[0m\u001b[0mkey\u001b[0m\u001b[0;34m)\u001b[0m\u001b[0;34m\u001b[0m\u001b[0;34m\u001b[0m\u001b[0m\n\u001b[0;32m-> 3458\u001b[0;31m             \u001b[0mindexer\u001b[0m \u001b[0;34m=\u001b[0m \u001b[0mself\u001b[0m\u001b[0;34m.\u001b[0m\u001b[0mcolumns\u001b[0m\u001b[0;34m.\u001b[0m\u001b[0mget_loc\u001b[0m\u001b[0;34m(\u001b[0m\u001b[0mkey\u001b[0m\u001b[0;34m)\u001b[0m\u001b[0;34m\u001b[0m\u001b[0;34m\u001b[0m\u001b[0m\n\u001b[0m\u001b[1;32m   3459\u001b[0m             \u001b[0;32mif\u001b[0m \u001b[0mis_integer\u001b[0m\u001b[0;34m(\u001b[0m\u001b[0mindexer\u001b[0m\u001b[0;34m)\u001b[0m\u001b[0;34m:\u001b[0m\u001b[0;34m\u001b[0m\u001b[0;34m\u001b[0m\u001b[0m\n\u001b[1;32m   3460\u001b[0m                 \u001b[0mindexer\u001b[0m \u001b[0;34m=\u001b[0m \u001b[0;34m[\u001b[0m\u001b[0mindexer\u001b[0m\u001b[0;34m]\u001b[0m\u001b[0;34m\u001b[0m\u001b[0;34m\u001b[0m\u001b[0m\n",
            "\u001b[0;32m/usr/local/lib/python3.7/dist-packages/pandas/core/indexes/base.py\u001b[0m in \u001b[0;36mget_loc\u001b[0;34m(self, key, method, tolerance)\u001b[0m\n\u001b[1;32m   3361\u001b[0m                 \u001b[0;32mreturn\u001b[0m \u001b[0mself\u001b[0m\u001b[0;34m.\u001b[0m\u001b[0m_engine\u001b[0m\u001b[0;34m.\u001b[0m\u001b[0mget_loc\u001b[0m\u001b[0;34m(\u001b[0m\u001b[0mcasted_key\u001b[0m\u001b[0;34m)\u001b[0m\u001b[0;34m\u001b[0m\u001b[0;34m\u001b[0m\u001b[0m\n\u001b[1;32m   3362\u001b[0m             \u001b[0;32mexcept\u001b[0m \u001b[0mKeyError\u001b[0m \u001b[0;32mas\u001b[0m \u001b[0merr\u001b[0m\u001b[0;34m:\u001b[0m\u001b[0;34m\u001b[0m\u001b[0;34m\u001b[0m\u001b[0m\n\u001b[0;32m-> 3363\u001b[0;31m                 \u001b[0;32mraise\u001b[0m \u001b[0mKeyError\u001b[0m\u001b[0;34m(\u001b[0m\u001b[0mkey\u001b[0m\u001b[0;34m)\u001b[0m \u001b[0;32mfrom\u001b[0m \u001b[0merr\u001b[0m\u001b[0;34m\u001b[0m\u001b[0;34m\u001b[0m\u001b[0m\n\u001b[0m\u001b[1;32m   3364\u001b[0m \u001b[0;34m\u001b[0m\u001b[0m\n\u001b[1;32m   3365\u001b[0m         \u001b[0;32mif\u001b[0m \u001b[0mis_scalar\u001b[0m\u001b[0;34m(\u001b[0m\u001b[0mkey\u001b[0m\u001b[0;34m)\u001b[0m \u001b[0;32mand\u001b[0m \u001b[0misna\u001b[0m\u001b[0;34m(\u001b[0m\u001b[0mkey\u001b[0m\u001b[0;34m)\u001b[0m \u001b[0;32mand\u001b[0m \u001b[0;32mnot\u001b[0m \u001b[0mself\u001b[0m\u001b[0;34m.\u001b[0m\u001b[0mhasnans\u001b[0m\u001b[0;34m:\u001b[0m\u001b[0;34m\u001b[0m\u001b[0;34m\u001b[0m\u001b[0m\n",
            "\u001b[0;31mKeyError\u001b[0m: 'pH\\t'"
          ]
        },
        {
          "output_type": "display_data",
          "data": {
            "text/plain": [
              "<Figure size 432x288 with 1 Axes>"
            ],
            "image/png": "[encoded data removed]"
          },
          "metadata": {
            "needs_background": "light"
          }
        }
      ]
    },
    {
      "cell_type": "code",
      "source": [
        "plt.title(\"Bar Chart\")\n",
        "X=df.head(30)[\"chlorides\"]\n",
        "Y=df.head(30)[\"quality\"]\n",
        "plt.bar(x,y)"
      ],
      "metadata": {
        "colab": {
          "base_uri": "https://localhost:8080/",
          "height": 298
        },
        "id": "HMZPIhcQw0so",
        "outputId": "ac2297a8-6f45-4adf-831d-c84223122988"
      },
      "execution_count": 12,
      "outputs": [
        {
          "output_type": "execute_result",
          "data": {
            "text/plain": [
              "<BarContainer object of 30 artists>"
            ]
          },
          "metadata": {},
          "execution_count": 12
        },
        {
          "output_type": "display_data",
          "data": {
            "text/plain": [
              "<Figure size 432x288 with 1 Axes>"
            ],
            "image/png": "[encoded data removed]"
          },
          "metadata": {
            "needs_background": "light"
          }
        }
      ]
    },
    {
      "cell_type": "code",
      "source": [
        "import seaborn as sns\n",
        "\n",
        "plt.title(\"Seaborne\")\n",
        "x=df.head(50)[\"chlorides\"]\n",
        "y=df.head(50)[\"citric acid\"]\n",
        "sns.regplot(x, y)"
      ],
      "metadata": {
        "colab": {
          "base_uri": "https://localhost:8080/",
          "height": 367
        },
        "id": "-PYKnfItxBCv",
        "outputId": "8e127cf3-c743-43f5-d653-5f0f223e535b"
      },
      "execution_count": 17,
      "outputs": [
        {
          "output_type": "stream",
          "name": "stderr",
          "text": [
            "/usr/local/lib/python3.7/dist-packages/seaborn/_decorators.py:43: FutureWarning: Pass the following variables as keyword args: x, y. From version 0.12, the only valid positional argument will be `data`, and passing other arguments without an explicit keyword will result in an error or misinterpretation.\n",
            "  FutureWarning\n"
          ]
        },
        {
          "output_type": "execute_result",
          "data": {
            "text/plain": [
              "<matplotlib.axes._subplots.AxesSubplot at 0x7f4a70c8e1d0>"
            ]
          },
          "metadata": {},
          "execution_count": 17
        },
        {
          "output_type": "display_data",
          "data": {
            "text/plain": [
              "<Figure size 432x288 with 1 Axes>"
            ],
            "image/png": "[encoded data removed]"
          },
          "metadata": {
            "needs_background": "light"
          }
        }
      ]
    },
    {
      "cell_type": "code",
      "source": [
        "arr1  =df.head(50) [\"sulphates\"]\n",
        "arr2  = df.head(50)[\"density\"]\n",
        "arr3  = df.head(50)[\"alcohol\"]\n",
        "\n",
        "plt.plot([], [], color='b', label = '#1')\n",
        "plt.plot([], [], color='r', label = '#2')\n",
        "plt.plot([], [], color='g', label = '#3')\n",
        "\n",
        "plt.stackplot( arr1, arr2, arr3, colors= ['r', 'g', 'b'])\n",
        "plt.title('Stack Plot')\n",
        "plt.legend(\"ROHITH@2022\")\n",
        "plt.show()"
      ],
      "metadata": {
        "colab": {
          "base_uri": "https://localhost:8080/",
          "height": 281
        },
        "id": "mSy3BO41xUy0",
        "outputId": "ced96177-22f8-4cd7-afdf-f8ee8c642ced"
      },
      "execution_count": 16,
      "outputs": [
        {
          "output_type": "display_data",
          "data": {
            "text/plain": [
              "<Figure size 432x288 with 1 Axes>"
            ],
            "image/png": "[encoded data removed]"
          },
          "metadata": {
            "needs_background": "light"
          }
        }
      ]
    },
    {
      "cell_type": "code",
      "source": [
        "plt.title(\"Box Plot\")\n",
        "x=df.head(50)[\"quality\"]\n",
        "plt.boxplot(x)"
      ],
      "metadata": {
        "colab": {
          "base_uri": "https://localhost:8080/",
          "height": 420
        },
        "id": "ZT392BYExxL1",
        "outputId": "e34e6655-24dd-4a8c-db93-fcda3cae442f"
      },
      "execution_count": 15,
      "outputs": [
        {
          "output_type": "execute_result",
          "data": {
            "text/plain": [
              "{'whiskers': [<matplotlib.lines.Line2D at 0x7f4a70cd3c50>,\n",
              "  <matplotlib.lines.Line2D at 0x7f4a7d0c6e90>],\n",
              " 'caps': [<matplotlib.lines.Line2D at 0x7f4a70d57d10>,\n",
              "  <matplotlib.lines.Line2D at 0x7f4a70d57050>],\n",
              " 'boxes': [<matplotlib.lines.Line2D at 0x7f4a70cd3d50>],\n",
              " 'medians': [<matplotlib.lines.Line2D at 0x7f4a7d0d39d0>],\n",
              " 'fliers': [<matplotlib.lines.Line2D at 0x7f4a7d0d37d0>],\n",
              " 'means': []}"
            ]
          },
          "metadata": {},
          "execution_count": 15
        },
        {
          "output_type": "display_data",
          "data": {
            "text/plain": [
              "<Figure size 432x288 with 1 Axes>"
            ],
            "image/png": "[encoded data removed]"
          },
          "metadata": {
            "needs_background": "light"
          }
        }
      ]
    },
    {
      "cell_type": "code",
      "source": [
        "plt.title(\"Pie Chart\")\n",
        "X=df.head(59)['free sulfur dioxide']\n",
        "Y=df.head(59)[\"total sulfur dioxide\"]\n",
        "plt.pie(x,y)"
      ],
      "metadata": {
        "colab": {
          "base_uri": "https://localhost:8080/",
          "height": 1000
        },
        "id": "bdOsPEr-yIqf",
        "outputId": "4617b742-8d64-40b9-a828-0dabadc06530"
      },
      "execution_count": 19,
      "outputs": [
        {
          "output_type": "execute_result",
          "data": {
            "text/plain": [
              "([<matplotlib.patches.Wedge at 0x7f4a7093c490>,\n",
              "  <matplotlib.patches.Wedge at 0x7f4a7093c8d0>,\n",
              "  <matplotlib.patches.Wedge at 0x7f4a7093c890>,\n",
              "  <matplotlib.patches.Wedge at 0x7f4a70946410>,\n",
              "  <matplotlib.patches.Wedge at 0x7f4a70946d10>,\n",
              "  <matplotlib.patches.Wedge at 0x7f4a709512d0>,\n",
              "  <matplotlib.patches.Wedge at 0x7f4a70951110>,\n",
              "  <matplotlib.patches.Wedge at 0x7f4a70951790>,\n",
              "  <matplotlib.patches.Wedge at 0x7f4a709464d0>,\n",
              "  <matplotlib.patches.Wedge at 0x7f4a70951150>,\n",
              "  <matplotlib.patches.Wedge at 0x7f4a7093c450>,\n",
              "  <matplotlib.patches.Wedge at 0x7f4a70968290>,\n",
              "  <matplotlib.patches.Wedge at 0x7f4a70968350>,\n",
              "  <matplotlib.patches.Wedge at 0x7f4a70968910>,\n",
              "  <matplotlib.patches.Wedge at 0x7f4a70973410>,\n",
              "  <matplotlib.patches.Wedge at 0x7f4a709734d0>,\n",
              "  <matplotlib.patches.Wedge at 0x7f4a70973a90>,\n",
              "  <matplotlib.patches.Wedge at 0x7f4a70900090>,\n",
              "  <matplotlib.patches.Wedge at 0x7f4a70900650>,\n",
              "  <matplotlib.patches.Wedge at 0x7f4a7090b150>,\n",
              "  <matplotlib.patches.Wedge at 0x7f4a7090b210>,\n",
              "  <matplotlib.patches.Wedge at 0x7f4a7090b7d0>,\n",
              "  <matplotlib.patches.Wedge at 0x7f4a709152d0>,\n",
              "  <matplotlib.patches.Wedge at 0x7f4a70915390>,\n",
              "  <matplotlib.patches.Wedge at 0x7f4a70915950>,\n",
              "  <matplotlib.patches.Wedge at 0x7f4a70921450>,\n",
              "  <matplotlib.patches.Wedge at 0x7f4a70921510>,\n",
              "  <matplotlib.patches.Wedge at 0x7f4a70921ad0>,\n",
              "  <matplotlib.patches.Wedge at 0x7f4a709300d0>,\n",
              "  <matplotlib.patches.Wedge at 0x7f4a70930690>,\n",
              "  <matplotlib.patches.Wedge at 0x7f4a7093a190>,\n",
              "  <matplotlib.patches.Wedge at 0x7f4a7093a250>,\n",
              "  <matplotlib.patches.Wedge at 0x7f4a7093a810>,\n",
              "  <matplotlib.patches.Wedge at 0x7f4a708c4310>,\n",
              "  <matplotlib.patches.Wedge at 0x7f4a708c43d0>,\n",
              "  <matplotlib.patches.Wedge at 0x7f4a708c4990>,\n",
              "  <matplotlib.patches.Wedge at 0x7f4a708d1490>,\n",
              "  <matplotlib.patches.Wedge at 0x7f4a708d1550>,\n",
              "  <matplotlib.patches.Wedge at 0x7f4a708dc050>,\n",
              "  <matplotlib.patches.Wedge at 0x7f4a708dc110>,\n",
              "  <matplotlib.patches.Wedge at 0x7f4a708dc6d0>,\n",
              "  <matplotlib.patches.Wedge at 0x7f4a708e71d0>,\n",
              "  <matplotlib.patches.Wedge at 0x7f4a708e7290>,\n",
              "  <matplotlib.patches.Wedge at 0x7f4a708e7850>,\n",
              "  <matplotlib.patches.Wedge at 0x7f4a708f1350>,\n",
              "  <matplotlib.patches.Wedge at 0x7f4a708f1410>,\n",
              "  <matplotlib.patches.Wedge at 0x7f4a708f19d0>,\n",
              "  <matplotlib.patches.Wedge at 0x7f4a708804d0>,\n",
              "  <matplotlib.patches.Wedge at 0x7f4a70880590>,\n",
              "  <matplotlib.patches.Wedge at 0x7f4a7088b090>],\n",
              " [Text(1.4580240748209667, 0.07593284692716384, ''),\n",
              "  Text(1.421441298567788, 0.23044442871530063, ''),\n",
              "  Text(1.443559196598046, 0.4075988786996398, ''),\n",
              "  Text(1.3078677057530033, 0.5530660577619783, ''),\n",
              "  Text(1.2221616997358615, 0.7229943151220142, ''),\n",
              "  Text(1.1858381420382411, 0.9185792839419429, ''),\n",
              "  Text(0.9055130423506674, 0.8761541702992908, ''),\n",
              "  Text(0.9381105528352558, 1.1187263251837472, ''),\n",
              "  Text(0.8001075562030442, 1.1972584927687056, ''),\n",
              "  Text(0.708675575480171, 1.3559789558536108, ''),\n",
              "  Text(0.5776502096696242, 1.3951416541945263, ''),\n",
              "  Text(0.46319542630571964, 1.426691976934567, ''),\n",
              "  Text(0.3311287162266677, 1.4322198760281464, ''),\n",
              "  Text(0.19457102092307577, 1.4873271724193544, ''),\n",
              "  Text(0.05667001784340939, 1.7190661735598278, ''),\n",
              "  Text(-0.07440963392135644, 1.47812827805292, ''),\n",
              "  Text(-0.1596291658141879, 1.128768589845353, ''),\n",
              "  Text(-0.35590743837707794, 1.5393927034086743, ''),\n",
              "  Text(-0.44758819662976035, 1.4526062116890865, ''),\n",
              "  Text(-0.469058117543767, 1.1478608288317438, ''),\n",
              "  Text(-0.7188511712869003, 1.4070014191675329, ''),\n",
              "  Text(-0.7733345523779379, 1.261884967062535, ''),\n",
              "  Text(-0.9203715164439473, 1.2096761019870852, ''),\n",
              "  Text(-0.8831260744054361, 0.8704529491622417, ''),\n",
              "  Text(-1.2179107350659173, 0.8926328704518991, ''),\n",
              "  Text(-1.232891109336553, 0.7045420587295574, ''),\n",
              "  Text(-1.332211518116785, 0.5724617637859936, ''),\n",
              "  Text(-1.4291582807771168, 0.42143399066306475, ''),\n",
              "  Text(-1.5562949953277807, 0.2726644229042413, ''),\n",
              "  Text(-1.4552203075744865, 0.11804175711508859, ''),\n",
              "  Text(-1.489951191604147, -0.012060125927326457, ''),\n",
              "  Text(-1.431682320573437, -0.1545500985359063, ''),\n",
              "  Text(-1.4267240025193726, -0.30993325190289195, ''),\n",
              "  Text(-1.365187723842459, -0.4581074968496437, ''),\n",
              "  Text(-1.1834563269426301, -0.537988031669347, ''),\n",
              "  Text(-1.2880732739496223, -0.8256919770330224, ''),\n",
              "  Text(-0.9985723954253484, -0.8784948327079004, ''),\n",
              "  Text(-0.9459276042130481, -1.0590660827293843, ''),\n",
              "  Text(-0.8435781086939296, -1.2282002990279612, ''),\n",
              "  Text(-0.6748331294552727, -1.3284202073853, ''),\n",
              "  Text(-0.303662335301337, -1.4587286197642586, ''),\n",
              "  Text(0.2867765380055888, -1.4621419962676434, ''),\n",
              "  Text(0.6201581545176337, -1.2103734396397183, ''),\n",
              "  Text(0.7951084365979015, -1.1156623925053855, ''),\n",
              "  Text(0.9314657844444256, -0.9909447474048849, ''),\n",
              "  Text(1.0964769138468307, -0.8864752548159087, ''),\n",
              "  Text(1.1664985575702478, -0.6992003398072197, ''),\n",
              "  Text(1.2482060846846064, -0.5142777169548818, ''),\n",
              "  Text(1.3227071979252865, -0.3162999661028076, ''),\n",
              "  Text(1.4456510344281477, -0.1122189228999579, '')])"
            ]
          },
          "metadata": {},
          "execution_count": 19
        },
        {
          "output_type": "display_data",
          "data": {
            "text/plain": [
              "<Figure size 432x288 with 1 Axes>"
            ],
            "image/png": "[encoded data removed]"
          },
          "metadata": {}
        }
      ]
    }
  ]
}